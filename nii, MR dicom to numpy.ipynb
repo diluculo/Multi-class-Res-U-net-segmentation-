{
 "cells": [
  {
   "cell_type": "code",
   "execution_count": 1,
   "id": "ecological-usage",
   "metadata": {},
   "outputs": [],
   "source": [
    "import pydicom\n",
    "import os\n",
    "import sys\n",
    "import numpy as np\n",
    "import nibabel as nib\n",
    "from matplotlib import pyplot, cm\n",
    "import matplotlib.pyplot as plt\n",
    "import time\n",
    "import glob\n",
    "\n",
    "now=time.localtime(time.time())"
   ]
  },
  {
   "cell_type": "code",
   "execution_count": 2,
   "id": "pretty-software",
   "metadata": {},
   "outputs": [],
   "source": [
    "def converter(id):\n",
    "    NiftiPath = \"C:/Users/BMPL/Desktop/dicom import/p{}/nifti/\".format(id)\n",
    "    DicomPath = \"C:/Users/BMPL/Desktop/dicom import/p{}/dicom/\".format(id)\n",
    "\n",
    "    img = nib.load(NiftiPath+'aseg.nii')\n",
    "    contour = np.array(img.dataobj)\n",
    "    contour = np.transpose(contour, (2,1,0))\n",
    "\n",
    "    print(contour.shape)\n",
    "\n",
    "    dcm_list = glob.glob(os.path.join(DicomPath, \"*.dcm\"))\n",
    "    slices = [pydicom.read_file(dcm) for dcm in dcm_list] # dcm_list에서 받은 .dcm 파일들의 경로를 하나씩 불러들여 pydicom의 read_file함수로 이미지를 읽어들인다.\n",
    "    slices.sort(key = lambda x: float(x.InstanceNumber)) # 불러들인 slices는 파일 이름 순서로 sort되어 있는데, 파일 이름 순서는 항상 slice 순서를 따르지는 않는다. 따라서 InstanceNumber tag로 sort해준다.\n",
    "    # RescaleSloope / Intercept tag가 존재하는 경우, 이를 계산하여 array로 stack하고, tag가 존재하지 않으면 계산하지 않고 array로 stack한다.\n",
    "    if ('RescaleIntercept' in slices[0] and 'RescaleSlope' in slices[0]):\n",
    "        slope = slices[0].RescaleSlope\n",
    "        intercept = slices[0].RescaleIntercept\n",
    "        image = np.stack([s.pixel_array*slope+intercept for s in slices], axis=0)\n",
    "    else:\n",
    "        image = np.stack([s.pixel_array for s in slices], axis=0) # axis=0은 slice number가 첫번째 축에 오도록 한다. array_shape = (slice,height,width)\n",
    "\n",
    "    print(image.shape)\n",
    "    \n",
    "    data_path='C:/Users/BMPL/Desktop/data set/'\n",
    "    np.save(data_path+'MRimages_{}'.format(id), image)\n",
    "    np.save(data_path+'Mask_{}'.format(id), contour)"
   ]
  },
  {
   "cell_type": "code",
   "execution_count": 3,
   "id": "gross-trinidad",
   "metadata": {},
   "outputs": [
    {
     "name": "stdout",
     "output_type": "stream",
     "text": [
      "(256, 256, 256)\n",
      "(256, 256, 256)\n",
      "(256, 256, 256)\n",
      "(256, 256, 256)\n",
      "(256, 256, 256)\n",
      "(256, 256, 256)\n",
      "(256, 256, 256)\n",
      "(256, 256, 256)\n",
      "(256, 256, 256)\n",
      "(256, 256, 256)\n",
      "converting completed\n"
     ]
    }
   ],
   "source": [
    "##==============전체 데이터셋 개수 입력 창 ==============================##\n",
    "number_of_p=5\n",
    "##=======================================================================##\n",
    "for i in range(number_of_p):\n",
    "    converter(i+1)\n",
    "\n",
    "print('converting completed')"
   ]
  },
  {
   "cell_type": "code",
   "execution_count": 5,
   "id": "military-borough",
   "metadata": {},
   "outputs": [
    {
     "data": {
      "text/plain": [
       "'from matplotlib import pyplot\\nplt.subplot(131)\\nplt.imshow(contour[100].reshape((256, 256)), cmap=\"gray\")\\nplt.subplot(132)\\nplt.imshow(image[100].reshape((256, 256)), cmap=\"gray\")\\n\\nimage2=np.reshape(image, (256, 256, 256, 1))\\nimage2=image2/256\\ncontour2=np.reshape(contour, (256, 256, 256, 1))\\ncontour2=contour2*(50/256)\\nbasic=np.zeros((256,256,256,1))\\n\\nimage3=np.concatenate((image2, image2, image2), axis = 3)\\ncontour3=np.concatenate((basic, contour2, basic), axis = 3)\\n\\n\\ntotal=image3+contour3\\nplt.subplot(133)\\nplt.imshow(total[100])'"
      ]
     },
     "execution_count": 5,
     "metadata": {},
     "output_type": "execute_result"
    }
   ],
   "source": [
    "'''from matplotlib import pyplot\n",
    "plt.subplot(131)\n",
    "plt.imshow(contour[100].reshape((256, 256)), cmap=\"gray\")\n",
    "plt.subplot(132)\n",
    "plt.imshow(image[100].reshape((256, 256)), cmap=\"gray\")\n",
    "\n",
    "image2=np.reshape(image, (256, 256, 256, 1))\n",
    "image2=image2/256\n",
    "contour2=np.reshape(contour, (256, 256, 256, 1))\n",
    "contour2=contour2*(50/256)\n",
    "basic=np.zeros((256,256,256,1))\n",
    "\n",
    "image3=np.concatenate((image2, image2, image2), axis = 3)\n",
    "contour3=np.concatenate((basic, contour2, basic), axis = 3)\n",
    "\n",
    "\n",
    "total=image3+contour3\n",
    "plt.subplot(133)\n",
    "plt.imshow(total[100])'''"
   ]
  },
  {
   "cell_type": "code",
   "execution_count": null,
   "id": "responsible-induction",
   "metadata": {},
   "outputs": [],
   "source": []
  }
 ],
 "metadata": {
  "kernelspec": {
   "display_name": "Pytorch",
   "language": "python",
   "name": "pytorch"
  },
  "language_info": {
   "codemirror_mode": {
    "name": "ipython",
    "version": 3
   },
   "file_extension": ".py",
   "mimetype": "text/x-python",
   "name": "python",
   "nbconvert_exporter": "python",
   "pygments_lexer": "ipython3",
   "version": "3.8.8"
  }
 },
 "nbformat": 4,
 "nbformat_minor": 5
}
